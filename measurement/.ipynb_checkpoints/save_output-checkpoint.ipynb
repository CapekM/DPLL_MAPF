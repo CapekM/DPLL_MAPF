{
 "cells": [
  {
   "cell_type": "code",
   "execution_count": 1,
   "metadata": {},
   "outputs": [],
   "source": [
    "import numpy as np\n",
    "import pandas as pd"
   ]
  },
  {
   "cell_type": "code",
   "execution_count": 12,
   "metadata": {},
   "outputs": [
    {
     "data": {
      "text/plain": [
       "['../code/output/warehouse/dpll_mapf_3.csv',\n",
       " '../code/output/warehouse/dpll_mapf_5.csv',\n",
       " '../code/output/warehouse/dpll_mapf_10.csv',\n",
       " '../code/output/warehouse/dpll_mapf_exp_2.csv',\n",
       " '../code/output/warehouse/dpll_mapf_exp_1.4.csv',\n",
       " '../code/output/warehouse/dpll_mapf_exp_1.6.csv']"
      ]
     },
     "execution_count": 12,
     "metadata": {},
     "output_type": "execute_result"
    }
   ],
   "source": [
    "file_template = \"../code/output/dpll_mapf_\"\n",
    "names = [\"3\", \"5\", \"10\", \"exp_2\", \"exp_1.4\", \"exp_1.6\"]\n",
    "file_names = [ file_template + x + \".csv\" for x in names]\n",
    "# file_names.append(\"../code/output/warehouse/smt_cbs.csv\")\n",
    "file_names"
   ]
  },
  {
   "cell_type": "code",
   "execution_count": 13,
   "metadata": {},
   "outputs": [],
   "source": [
    "def load_output(filename, n):\n",
    "    p = list(range(10))\n",
    "    p.insert(0, \"name\")\n",
    "    data = pd.read_csv(filename, names=p)\n",
    "    data[n] = data.mean(numeric_only=True, axis=1)\n",
    "    data = data.drop(list(range(10)), axis=1)\n",
    "    return data"
   ]
  },
  {
   "cell_type": "code",
   "execution_count": 14,
   "metadata": {},
   "outputs": [],
   "source": [
    "data = []\n",
    "data.append(load_output(file_names[0], names[0]))\n",
    "data.append(load_output(file_names[1], names[1]))\n",
    "data.append(load_output(file_names[2], names[2]))\n",
    "data.append(load_output(file_names[3], \"EXP\"))\n",
    "data.append(load_output(file_names[4], \"EXP 1.4\"))\n",
    "data.append(load_output(file_names[5], \"EXP 1.6\"))\n",
    "# data.append(load_output(file_names[6], \"SMT-CBS\"))"
   ]
  },
  {
   "cell_type": "code",
   "execution_count": 15,
   "metadata": {},
   "outputs": [
    {
     "data": {
      "text/html": [
       "<div>\n",
       "<style scoped>\n",
       "    .dataframe tbody tr th:only-of-type {\n",
       "        vertical-align: middle;\n",
       "    }\n",
       "\n",
       "    .dataframe tbody tr th {\n",
       "        vertical-align: top;\n",
       "    }\n",
       "\n",
       "    .dataframe thead th {\n",
       "        text-align: right;\n",
       "    }\n",
       "</style>\n",
       "<table border=\"1\" class=\"dataframe\">\n",
       "  <thead>\n",
       "    <tr style=\"text-align: right;\">\n",
       "      <th></th>\n",
       "      <th>name</th>\n",
       "      <th>3</th>\n",
       "      <th>5</th>\n",
       "      <th>10</th>\n",
       "      <th>EXP</th>\n",
       "      <th>EXP 1.4</th>\n",
       "      <th>EXP 1.6</th>\n",
       "    </tr>\n",
       "  </thead>\n",
       "  <tbody>\n",
       "    <tr>\n",
       "      <th>0</th>\n",
       "      <td>warehouse_a2</td>\n",
       "      <td>14.0380</td>\n",
       "      <td>13.7420</td>\n",
       "      <td>14.0200</td>\n",
       "      <td>13.9760</td>\n",
       "      <td>14.1260</td>\n",
       "      <td>13.7980</td>\n",
       "    </tr>\n",
       "    <tr>\n",
       "      <th>1</th>\n",
       "      <td>warehouse_a4</td>\n",
       "      <td>4.5694</td>\n",
       "      <td>4.5100</td>\n",
       "      <td>4.5036</td>\n",
       "      <td>4.4996</td>\n",
       "      <td>4.5160</td>\n",
       "      <td>4.5798</td>\n",
       "    </tr>\n",
       "    <tr>\n",
       "      <th>2</th>\n",
       "      <td>warehouse_a6</td>\n",
       "      <td>7.7352</td>\n",
       "      <td>7.7498</td>\n",
       "      <td>7.5496</td>\n",
       "      <td>7.7726</td>\n",
       "      <td>7.4936</td>\n",
       "      <td>7.9154</td>\n",
       "    </tr>\n",
       "    <tr>\n",
       "      <th>3</th>\n",
       "      <td>warehouse_a8</td>\n",
       "      <td>26.1340</td>\n",
       "      <td>26.1100</td>\n",
       "      <td>25.9640</td>\n",
       "      <td>26.6700</td>\n",
       "      <td>25.8320</td>\n",
       "      <td>26.6540</td>\n",
       "    </tr>\n",
       "    <tr>\n",
       "      <th>4</th>\n",
       "      <td>warehouse_a10</td>\n",
       "      <td>47.3000</td>\n",
       "      <td>48.1340</td>\n",
       "      <td>47.5100</td>\n",
       "      <td>47.3280</td>\n",
       "      <td>47.4740</td>\n",
       "      <td>53.5860</td>\n",
       "    </tr>\n",
       "    <tr>\n",
       "      <th>5</th>\n",
       "      <td>warehouse_a12</td>\n",
       "      <td>49.6420</td>\n",
       "      <td>49.5300</td>\n",
       "      <td>49.3880</td>\n",
       "      <td>49.6140</td>\n",
       "      <td>49.4520</td>\n",
       "      <td>48.9500</td>\n",
       "    </tr>\n",
       "    <tr>\n",
       "      <th>6</th>\n",
       "      <td>warehouse_a14</td>\n",
       "      <td>59.0800</td>\n",
       "      <td>51.3600</td>\n",
       "      <td>57.2820</td>\n",
       "      <td>51.4740</td>\n",
       "      <td>58.5800</td>\n",
       "      <td>55.5620</td>\n",
       "    </tr>\n",
       "    <tr>\n",
       "      <th>7</th>\n",
       "      <td>warehouse_a16</td>\n",
       "      <td>33.9940</td>\n",
       "      <td>36.1600</td>\n",
       "      <td>36.0840</td>\n",
       "      <td>35.0740</td>\n",
       "      <td>35.7500</td>\n",
       "      <td>35.2160</td>\n",
       "    </tr>\n",
       "  </tbody>\n",
       "</table>\n",
       "</div>"
      ],
      "text/plain": [
       "            name        3        5       10      EXP  EXP 1.4  EXP 1.6\n",
       "0   warehouse_a2  14.0380  13.7420  14.0200  13.9760  14.1260  13.7980\n",
       "1   warehouse_a4   4.5694   4.5100   4.5036   4.4996   4.5160   4.5798\n",
       "2   warehouse_a6   7.7352   7.7498   7.5496   7.7726   7.4936   7.9154\n",
       "3   warehouse_a8  26.1340  26.1100  25.9640  26.6700  25.8320  26.6540\n",
       "4  warehouse_a10  47.3000  48.1340  47.5100  47.3280  47.4740  53.5860\n",
       "5  warehouse_a12  49.6420  49.5300  49.3880  49.6140  49.4520  48.9500\n",
       "6  warehouse_a14  59.0800  51.3600  57.2820  51.4740  58.5800  55.5620\n",
       "7  warehouse_a16  33.9940  36.1600  36.0840  35.0740  35.7500  35.2160"
      ]
     },
     "execution_count": 15,
     "metadata": {},
     "output_type": "execute_result"
    }
   ],
   "source": [
    "from functools import reduce\n",
    "data_merged = reduce(lambda  left,right: pd.merge(left,right,on=[\"name\"]), data)\n",
    "data_merged"
   ]
  },
  {
   "cell_type": "code",
   "execution_count": 13,
   "metadata": {},
   "outputs": [],
   "source": [
    "# # save csv\n",
    "# from pathlib import Path\n",
    "\n",
    "# for i in range(50):\n",
    "#     filename = f\"measurement_{i}.csv\"\n",
    "#     save_file = Path(filename)\n",
    "#     if not save_file.is_file():\n",
    "#         data_merged.to_csv(filename)\n",
    "#         break"
   ]
  },
  {
   "cell_type": "code",
   "execution_count": 16,
   "metadata": {},
   "outputs": [],
   "source": [
    "data_merged.to_csv(\"choke_experiment/warehouse.csv\")"
   ]
  }
 ],
 "metadata": {
  "kernelspec": {
   "display_name": "Python 3",
   "language": "python",
   "name": "python3"
  },
  "language_info": {
   "codemirror_mode": {
    "name": "ipython",
    "version": 3
   },
   "file_extension": ".py",
   "mimetype": "text/x-python",
   "name": "python",
   "nbconvert_exporter": "python",
   "pygments_lexer": "ipython3",
   "version": "3.7.9"
  }
 },
 "nbformat": 4,
 "nbformat_minor": 4
}
